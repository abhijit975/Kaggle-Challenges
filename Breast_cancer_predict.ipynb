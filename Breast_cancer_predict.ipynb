{
 "cells": [
  {
   "cell_type": "markdown",
   "id": "70502613",
   "metadata": {},
   "source": [
    "### Importing libraries"
   ]
  },
  {
   "cell_type": "code",
   "execution_count": 1,
   "id": "268dac01",
   "metadata": {},
   "outputs": [],
   "source": [
    "import numpy as np\n",
    "import pandas as pd\n",
    "import matplotlib.pyplot as plt\n",
    "%matplotlib inline\n",
    "import seaborn as sns"
   ]
  },
  {
   "cell_type": "code",
   "execution_count": 1,
   "id": "b697af82",
   "metadata": {},
   "outputs": [
    {
     "ename": "ModuleNotFoundError",
     "evalue": "No module named 'tensorflow'",
     "output_type": "error",
     "traceback": [
      "\u001b[1;31m---------------------------------------------------------------------------\u001b[0m",
      "\u001b[1;31mModuleNotFoundError\u001b[0m                       Traceback (most recent call last)",
      "\u001b[1;32m~\\AppData\\Local\\Temp\\ipykernel_18016\\706481512.py\u001b[0m in \u001b[0;36m<module>\u001b[1;34m\u001b[0m\n\u001b[1;32m----> 1\u001b[1;33m \u001b[1;32mimport\u001b[0m \u001b[0mtensorflow\u001b[0m \u001b[1;32mas\u001b[0m \u001b[0mtf\u001b[0m\u001b[1;33m\u001b[0m\u001b[1;33m\u001b[0m\u001b[0m\n\u001b[0m\u001b[0;32m      2\u001b[0m \u001b[1;32mfrom\u001b[0m \u001b[0mtensorflow\u001b[0m \u001b[1;32mimport\u001b[0m \u001b[0mkeras\u001b[0m\u001b[1;33m\u001b[0m\u001b[1;33m\u001b[0m\u001b[0m\n",
      "\u001b[1;31mModuleNotFoundError\u001b[0m: No module named 'tensorflow'"
     ]
    }
   ],
   "source": [
    "import tensorflow as tf\n",
    "from tensorflow import keras"
   ]
  },
  {
   "cell_type": "markdown",
   "id": "507ff4ec",
   "metadata": {},
   "source": [
    "### Importing datafiles"
   ]
  },
  {
   "cell_type": "code",
   "execution_count": 31,
   "id": "b533b64a",
   "metadata": {},
   "outputs": [],
   "source": [
    "df = pd.read_csv('data-training.csv')"
   ]
  },
  {
   "cell_type": "code",
   "execution_count": 32,
   "id": "63d5f2b5",
   "metadata": {},
   "outputs": [
    {
     "data": {
      "text/html": [
       "<div>\n",
       "<style scoped>\n",
       "    .dataframe tbody tr th:only-of-type {\n",
       "        vertical-align: middle;\n",
       "    }\n",
       "\n",
       "    .dataframe tbody tr th {\n",
       "        vertical-align: top;\n",
       "    }\n",
       "\n",
       "    .dataframe thead th {\n",
       "        text-align: right;\n",
       "    }\n",
       "</style>\n",
       "<table border=\"1\" class=\"dataframe\">\n",
       "  <thead>\n",
       "    <tr style=\"text-align: right;\">\n",
       "      <th></th>\n",
       "      <th>id</th>\n",
       "      <th>menopaus</th>\n",
       "      <th>agegrp</th>\n",
       "      <th>density</th>\n",
       "      <th>race</th>\n",
       "      <th>Hispanic</th>\n",
       "      <th>bmi</th>\n",
       "      <th>agefirst</th>\n",
       "      <th>nrelbc</th>\n",
       "      <th>brstproc</th>\n",
       "      <th>lastmamm</th>\n",
       "      <th>surgmeno</th>\n",
       "      <th>hrt</th>\n",
       "      <th>invasive</th>\n",
       "      <th>cancer</th>\n",
       "      <th>count</th>\n",
       "    </tr>\n",
       "  </thead>\n",
       "  <tbody>\n",
       "    <tr>\n",
       "      <th>0</th>\n",
       "      <td>RE-TRAIN-0000001</td>\n",
       "      <td>0</td>\n",
       "      <td>1</td>\n",
       "      <td>1</td>\n",
       "      <td>1</td>\n",
       "      <td>0</td>\n",
       "      <td>1</td>\n",
       "      <td>0</td>\n",
       "      <td>0</td>\n",
       "      <td>0</td>\n",
       "      <td>9</td>\n",
       "      <td>9</td>\n",
       "      <td>9</td>\n",
       "      <td>0</td>\n",
       "      <td>0</td>\n",
       "      <td>2</td>\n",
       "    </tr>\n",
       "    <tr>\n",
       "      <th>1</th>\n",
       "      <td>RE-TRAIN-0000002</td>\n",
       "      <td>0</td>\n",
       "      <td>1</td>\n",
       "      <td>1</td>\n",
       "      <td>1</td>\n",
       "      <td>0</td>\n",
       "      <td>1</td>\n",
       "      <td>0</td>\n",
       "      <td>0</td>\n",
       "      <td>0</td>\n",
       "      <td>9</td>\n",
       "      <td>9</td>\n",
       "      <td>9</td>\n",
       "      <td>0</td>\n",
       "      <td>0</td>\n",
       "      <td>4</td>\n",
       "    </tr>\n",
       "    <tr>\n",
       "      <th>2</th>\n",
       "      <td>RE-TRAIN-0000003</td>\n",
       "      <td>0</td>\n",
       "      <td>1</td>\n",
       "      <td>1</td>\n",
       "      <td>1</td>\n",
       "      <td>0</td>\n",
       "      <td>1</td>\n",
       "      <td>0</td>\n",
       "      <td>1</td>\n",
       "      <td>0</td>\n",
       "      <td>0</td>\n",
       "      <td>9</td>\n",
       "      <td>9</td>\n",
       "      <td>0</td>\n",
       "      <td>0</td>\n",
       "      <td>1</td>\n",
       "    </tr>\n",
       "    <tr>\n",
       "      <th>3</th>\n",
       "      <td>RE-TRAIN-0000004</td>\n",
       "      <td>0</td>\n",
       "      <td>1</td>\n",
       "      <td>1</td>\n",
       "      <td>1</td>\n",
       "      <td>0</td>\n",
       "      <td>1</td>\n",
       "      <td>0</td>\n",
       "      <td>1</td>\n",
       "      <td>0</td>\n",
       "      <td>9</td>\n",
       "      <td>9</td>\n",
       "      <td>9</td>\n",
       "      <td>0</td>\n",
       "      <td>0</td>\n",
       "      <td>1</td>\n",
       "    </tr>\n",
       "    <tr>\n",
       "      <th>4</th>\n",
       "      <td>RE-TRAIN-0000005</td>\n",
       "      <td>0</td>\n",
       "      <td>1</td>\n",
       "      <td>1</td>\n",
       "      <td>1</td>\n",
       "      <td>0</td>\n",
       "      <td>1</td>\n",
       "      <td>1</td>\n",
       "      <td>0</td>\n",
       "      <td>0</td>\n",
       "      <td>0</td>\n",
       "      <td>9</td>\n",
       "      <td>9</td>\n",
       "      <td>0</td>\n",
       "      <td>0</td>\n",
       "      <td>2</td>\n",
       "    </tr>\n",
       "  </tbody>\n",
       "</table>\n",
       "</div>"
      ],
      "text/plain": [
       "                 id  menopaus  agegrp  density  race  Hispanic  bmi  agefirst  \\\n",
       "0  RE-TRAIN-0000001         0       1        1     1         0    1         0   \n",
       "1  RE-TRAIN-0000002         0       1        1     1         0    1         0   \n",
       "2  RE-TRAIN-0000003         0       1        1     1         0    1         0   \n",
       "3  RE-TRAIN-0000004         0       1        1     1         0    1         0   \n",
       "4  RE-TRAIN-0000005         0       1        1     1         0    1         1   \n",
       "\n",
       "   nrelbc  brstproc  lastmamm  surgmeno  hrt  invasive  cancer  count  \n",
       "0       0         0         9         9    9         0       0      2  \n",
       "1       0         0         9         9    9         0       0      4  \n",
       "2       1         0         0         9    9         0       0      1  \n",
       "3       1         0         9         9    9         0       0      1  \n",
       "4       0         0         0         9    9         0       0      2  "
      ]
     },
     "execution_count": 32,
     "metadata": {},
     "output_type": "execute_result"
    }
   ],
   "source": [
    "df.head()"
   ]
  },
  {
   "cell_type": "code",
   "execution_count": 4,
   "id": "1c82919b",
   "metadata": {},
   "outputs": [],
   "source": [
    "data_dic = pd.read_excel('Data Dictionary.xlsx')"
   ]
  },
  {
   "cell_type": "code",
   "execution_count": 5,
   "id": "f90c0fde",
   "metadata": {},
   "outputs": [],
   "source": [
    "pd.set_option('display.max_colwidth', None)  "
   ]
  },
  {
   "cell_type": "code",
   "execution_count": 33,
   "id": "d6c002af",
   "metadata": {},
   "outputs": [
    {
     "data": {
      "text/html": [
       "<div>\n",
       "<style scoped>\n",
       "    .dataframe tbody tr th:only-of-type {\n",
       "        vertical-align: middle;\n",
       "    }\n",
       "\n",
       "    .dataframe tbody tr th {\n",
       "        vertical-align: top;\n",
       "    }\n",
       "\n",
       "    .dataframe thead th {\n",
       "        text-align: right;\n",
       "    }\n",
       "</style>\n",
       "<table border=\"1\" class=\"dataframe\">\n",
       "  <thead>\n",
       "    <tr style=\"text-align: right;\">\n",
       "      <th></th>\n",
       "      <th>Column</th>\n",
       "      <th>Column Name</th>\n",
       "      <th>Column Data</th>\n",
       "    </tr>\n",
       "  </thead>\n",
       "  <tbody>\n",
       "    <tr>\n",
       "      <th>0</th>\n",
       "      <td>0.0</td>\n",
       "      <td>id</td>\n",
       "      <td>Identifier of the row</td>\n",
       "    </tr>\n",
       "    <tr>\n",
       "      <th>1</th>\n",
       "      <td>1.0</td>\n",
       "      <td>menopaus</td>\n",
       "      <td>0 = premenopausal; 1 = postmenopausal or age&gt;=55 ; 9 = unknown</td>\n",
       "    </tr>\n",
       "    <tr>\n",
       "      <th>2</th>\n",
       "      <td>2.0</td>\n",
       "      <td>agegrp</td>\n",
       "      <td>1 = 35-39; 2 = 40-44; 3 = 45-49; 4 = 50-54; 5 = 55-59; 6 = 60-64; 7 = 65-69; 8 = 70-74; 9 = 75-79; 10 = 80-84</td>\n",
       "    </tr>\n",
       "    <tr>\n",
       "      <th>3</th>\n",
       "      <td>3.0</td>\n",
       "      <td>density</td>\n",
       "      <td>BI-RADS breast density codes 1 = Almost entirely fat; 2 = Scattered fibroglandular densities; 3 = Heterogeneously dense; 4 = Extremely dense; 9 = Unknown or different measurement system</td>\n",
       "    </tr>\n",
       "    <tr>\n",
       "      <th>4</th>\n",
       "      <td>4.0</td>\n",
       "      <td>race</td>\n",
       "      <td>1 = white; 2 = Asian/Pacific Islander; 3 = black; 4 = Native American; 5 = other/mixed; 9 = unknown</td>\n",
       "    </tr>\n",
       "    <tr>\n",
       "      <th>5</th>\n",
       "      <td>5.0</td>\n",
       "      <td>Hispanic</td>\n",
       "      <td>0 = no; 1 = yes; 9 = unknown</td>\n",
       "    </tr>\n",
       "    <tr>\n",
       "      <th>6</th>\n",
       "      <td>6.0</td>\n",
       "      <td>bmi</td>\n",
       "      <td>Body mass index: 1 = 10-24.99; 2 = 25-29.99; 3 = 30-34.99; 4 = 35 or more; 9 = unknown</td>\n",
       "    </tr>\n",
       "    <tr>\n",
       "      <th>7</th>\n",
       "      <td>7.0</td>\n",
       "      <td>agefirst</td>\n",
       "      <td>Age at first birth: 0 = Age &lt; 30; 1 = Age 30 or greater; 2 = Nulliparous; 9 = unknown</td>\n",
       "    </tr>\n",
       "    <tr>\n",
       "      <th>8</th>\n",
       "      <td>8.0</td>\n",
       "      <td>nrelbc</td>\n",
       "      <td>Number of first degree relatives with breast cancer: 0 = zero; 1= one; 2 = 2 or more; 9 = unknown</td>\n",
       "    </tr>\n",
       "    <tr>\n",
       "      <th>9</th>\n",
       "      <td>9.0</td>\n",
       "      <td>brstproc</td>\n",
       "      <td>Previous breast procedure: 0 = no; 1 = yes; 9 = unknown</td>\n",
       "    </tr>\n",
       "    <tr>\n",
       "      <th>10</th>\n",
       "      <td>10.0</td>\n",
       "      <td>lastmamm</td>\n",
       "      <td>Result of last mammogram before the index mammogram: 0 = negative; 1 = false positive; 9 = unknown</td>\n",
       "    </tr>\n",
       "    <tr>\n",
       "      <th>11</th>\n",
       "      <td>11.0</td>\n",
       "      <td>surgmeno</td>\n",
       "      <td>Surgical menopause: 0 = natural; 1 = surgical; 9 = unknown or not menopausal (menopaus=0 or menopaus=9)</td>\n",
       "    </tr>\n",
       "    <tr>\n",
       "      <th>12</th>\n",
       "      <td>12.0</td>\n",
       "      <td>hrt</td>\n",
       "      <td>Current hormone therapy: 0 = no; 1 = yes; 9 = unknown or not menopausal (menopaus=0 or menopaus=9)</td>\n",
       "    </tr>\n",
       "    <tr>\n",
       "      <th>13</th>\n",
       "      <td>13.0</td>\n",
       "      <td>invasive</td>\n",
       "      <td>Diagnosis of invasive breast cancer within one year of the index screening mammogram: 0 = no; 1 = yes</td>\n",
       "    </tr>\n",
       "    <tr>\n",
       "      <th>14</th>\n",
       "      <td>14.0</td>\n",
       "      <td>cancer</td>\n",
       "      <td>Diagnosis of invasive or ductal carcinoma in situ breast cancer within one year of the index screening mammogram: 0 = no; 1 = yes</td>\n",
       "    </tr>\n",
       "    <tr>\n",
       "      <th>15</th>\n",
       "      <td>15.0</td>\n",
       "      <td>count</td>\n",
       "      <td>Frequency count of this combination of covariates and outcomes (all variables 1 to 14)</td>\n",
       "    </tr>\n",
       "  </tbody>\n",
       "</table>\n",
       "</div>"
      ],
      "text/plain": [
       "    Column Column Name  \\\n",
       "0      0.0          id   \n",
       "1      1.0    menopaus   \n",
       "2      2.0      agegrp   \n",
       "3      3.0     density   \n",
       "4      4.0        race   \n",
       "5      5.0    Hispanic   \n",
       "6      6.0         bmi   \n",
       "7      7.0    agefirst   \n",
       "8      8.0      nrelbc   \n",
       "9      9.0    brstproc   \n",
       "10    10.0    lastmamm   \n",
       "11    11.0    surgmeno   \n",
       "12    12.0         hrt   \n",
       "13    13.0    invasive   \n",
       "14    14.0      cancer   \n",
       "15    15.0       count   \n",
       "\n",
       "                                                                                                                                                                                  Column Data  \n",
       "0                                                                                                                                                                       Identifier of the row  \n",
       "1                                                                                                                              0 = premenopausal; 1 = postmenopausal or age>=55 ; 9 = unknown  \n",
       "2                                                                               1 = 35-39; 2 = 40-44; 3 = 45-49; 4 = 50-54; 5 = 55-59; 6 = 60-64; 7 = 65-69; 8 = 70-74; 9 = 75-79; 10 = 80-84  \n",
       "3   BI-RADS breast density codes 1 = Almost entirely fat; 2 = Scattered fibroglandular densities; 3 = Heterogeneously dense; 4 = Extremely dense; 9 = Unknown or different measurement system  \n",
       "4                                                                                         1 = white; 2 = Asian/Pacific Islander; 3 = black; 4 = Native American; 5 = other/mixed; 9 = unknown  \n",
       "5                                                                                                                                                                0 = no; 1 = yes; 9 = unknown  \n",
       "6                                                                                                      Body mass index: 1 = 10-24.99; 2 = 25-29.99; 3 = 30-34.99; 4 = 35 or more; 9 = unknown  \n",
       "7                                                                                                       Age at first birth: 0 = Age < 30; 1 = Age 30 or greater; 2 = Nulliparous; 9 = unknown  \n",
       "8                                                                                           Number of first degree relatives with breast cancer: 0 = zero; 1= one; 2 = 2 or more; 9 = unknown  \n",
       "9                                                                                                                                     Previous breast procedure: 0 = no; 1 = yes; 9 = unknown  \n",
       "10                                                                                         Result of last mammogram before the index mammogram: 0 = negative; 1 = false positive; 9 = unknown  \n",
       "11                                                                                    Surgical menopause: 0 = natural; 1 = surgical; 9 = unknown or not menopausal (menopaus=0 or menopaus=9)  \n",
       "12                                                                                         Current hormone therapy: 0 = no; 1 = yes; 9 = unknown or not menopausal (menopaus=0 or menopaus=9)  \n",
       "13                                                                                      Diagnosis of invasive breast cancer within one year of the index screening mammogram: 0 = no; 1 = yes  \n",
       "14                                                          Diagnosis of invasive or ductal carcinoma in situ breast cancer within one year of the index screening mammogram: 0 = no; 1 = yes  \n",
       "15                                                                                                     Frequency count of this combination of covariates and outcomes (all variables 1 to 14)  "
      ]
     },
     "execution_count": 33,
     "metadata": {},
     "output_type": "execute_result"
    }
   ],
   "source": [
    "data_dic"
   ]
  },
  {
   "cell_type": "markdown",
   "id": "9694cf84",
   "metadata": {},
   "source": [
    "### Exploring dataset"
   ]
  },
  {
   "cell_type": "code",
   "execution_count": 34,
   "id": "a4565fd8",
   "metadata": {},
   "outputs": [
    {
     "name": "stdout",
     "output_type": "stream",
     "text": [
      "<class 'pandas.core.frame.DataFrame'>\n",
      "RangeIndex: 196462 entries, 0 to 196461\n",
      "Data columns (total 16 columns):\n",
      " #   Column    Non-Null Count   Dtype \n",
      "---  ------    --------------   ----- \n",
      " 0   id        196462 non-null  object\n",
      " 1   menopaus  196462 non-null  int64 \n",
      " 2   agegrp    196462 non-null  int64 \n",
      " 3   density   196462 non-null  int64 \n",
      " 4   race      196462 non-null  int64 \n",
      " 5   Hispanic  196462 non-null  int64 \n",
      " 6   bmi       196462 non-null  int64 \n",
      " 7   agefirst  196462 non-null  int64 \n",
      " 8   nrelbc    196462 non-null  int64 \n",
      " 9   brstproc  196462 non-null  int64 \n",
      " 10  lastmamm  196462 non-null  int64 \n",
      " 11  surgmeno  196462 non-null  int64 \n",
      " 12  hrt       196462 non-null  int64 \n",
      " 13  invasive  196462 non-null  int64 \n",
      " 14  cancer    196462 non-null  int64 \n",
      " 15  count     196462 non-null  int64 \n",
      "dtypes: int64(15), object(1)\n",
      "memory usage: 24.0+ MB\n"
     ]
    }
   ],
   "source": [
    "df.info()"
   ]
  },
  {
   "cell_type": "code",
   "execution_count": 35,
   "id": "de5c2d72",
   "metadata": {},
   "outputs": [
    {
     "data": {
      "text/plain": [
       "Index(['menopaus', 'agegrp', 'density', 'race', 'Hispanic', 'bmi', 'agefirst',\n",
       "       'nrelbc', 'brstproc', 'lastmamm', 'surgmeno', 'hrt', 'invasive',\n",
       "       'cancer', 'count'],\n",
       "      dtype='object')"
      ]
     },
     "execution_count": 35,
     "metadata": {},
     "output_type": "execute_result"
    }
   ],
   "source": [
    "df.columns[1:]"
   ]
  },
  {
   "cell_type": "code",
   "execution_count": 36,
   "id": "ef5475f2",
   "metadata": {},
   "outputs": [],
   "source": [
    "corr_mat = df.corr()"
   ]
  },
  {
   "cell_type": "code",
   "execution_count": 37,
   "id": "d83d2807",
   "metadata": {},
   "outputs": [
    {
     "data": {
      "text/plain": [
       "Hispanic   -0.040359\n",
       "race       -0.037971\n",
       "lastmamm   -0.026021\n",
       "count      -0.024619\n",
       "brstproc   -0.017272\n",
       "nrelbc     -0.009726\n",
       "hrt        -0.005826\n",
       "menopaus   -0.005108\n",
       "surgmeno    0.002086\n",
       "agegrp      0.026089\n",
       "density     0.026287\n",
       "bmi         0.037805\n",
       "agefirst    0.058492\n",
       "invasive    0.874999\n",
       "cancer      1.000000\n",
       "Name: cancer, dtype: float64"
      ]
     },
     "execution_count": 37,
     "metadata": {},
     "output_type": "execute_result"
    }
   ],
   "source": [
    "corr_mat['cancer'].sort_values(ascending=True)"
   ]
  },
  {
   "cell_type": "code",
   "execution_count": 40,
   "id": "0d38f0ed",
   "metadata": {},
   "outputs": [],
   "source": [
    "from random import sample"
   ]
  },
  {
   "cell_type": "code",
   "execution_count": 23,
   "id": "cc4f7325",
   "metadata": {},
   "outputs": [],
   "source": [
    "def fill_func(col):\n",
    "    return sample(list(df[df[col]!=9][col].values),len(df[df[col]==9][col]))    "
   ]
  },
  {
   "cell_type": "code",
   "execution_count": 74,
   "id": "7f6ff0b5",
   "metadata": {},
   "outputs": [],
   "source": [
    "dfnew = df.replace({9: np.nan})"
   ]
  },
  {
   "cell_type": "code",
   "execution_count": 39,
   "id": "fa4b5eb0",
   "metadata": {},
   "outputs": [
    {
     "data": {
      "text/html": [
       "<div>\n",
       "<style scoped>\n",
       "    .dataframe tbody tr th:only-of-type {\n",
       "        vertical-align: middle;\n",
       "    }\n",
       "\n",
       "    .dataframe tbody tr th {\n",
       "        vertical-align: top;\n",
       "    }\n",
       "\n",
       "    .dataframe thead th {\n",
       "        text-align: right;\n",
       "    }\n",
       "</style>\n",
       "<table border=\"1\" class=\"dataframe\">\n",
       "  <thead>\n",
       "    <tr style=\"text-align: right;\">\n",
       "      <th></th>\n",
       "      <th>id</th>\n",
       "      <th>menopaus</th>\n",
       "      <th>agegrp</th>\n",
       "      <th>density</th>\n",
       "      <th>race</th>\n",
       "      <th>Hispanic</th>\n",
       "      <th>bmi</th>\n",
       "      <th>agefirst</th>\n",
       "      <th>nrelbc</th>\n",
       "      <th>brstproc</th>\n",
       "      <th>lastmamm</th>\n",
       "      <th>surgmeno</th>\n",
       "      <th>hrt</th>\n",
       "      <th>invasive</th>\n",
       "      <th>cancer</th>\n",
       "      <th>count</th>\n",
       "    </tr>\n",
       "  </thead>\n",
       "  <tbody>\n",
       "    <tr>\n",
       "      <th>0</th>\n",
       "      <td>RE-TRAIN-0000001</td>\n",
       "      <td>0.0</td>\n",
       "      <td>1.0</td>\n",
       "      <td>1.0</td>\n",
       "      <td>1.0</td>\n",
       "      <td>0.0</td>\n",
       "      <td>1.0</td>\n",
       "      <td>0.0</td>\n",
       "      <td>0.0</td>\n",
       "      <td>0.0</td>\n",
       "      <td>NaN</td>\n",
       "      <td>NaN</td>\n",
       "      <td>NaN</td>\n",
       "      <td>0.0</td>\n",
       "      <td>0.0</td>\n",
       "      <td>2.0</td>\n",
       "    </tr>\n",
       "    <tr>\n",
       "      <th>1</th>\n",
       "      <td>RE-TRAIN-0000002</td>\n",
       "      <td>0.0</td>\n",
       "      <td>1.0</td>\n",
       "      <td>1.0</td>\n",
       "      <td>1.0</td>\n",
       "      <td>0.0</td>\n",
       "      <td>1.0</td>\n",
       "      <td>0.0</td>\n",
       "      <td>0.0</td>\n",
       "      <td>0.0</td>\n",
       "      <td>NaN</td>\n",
       "      <td>NaN</td>\n",
       "      <td>NaN</td>\n",
       "      <td>0.0</td>\n",
       "      <td>0.0</td>\n",
       "      <td>4.0</td>\n",
       "    </tr>\n",
       "    <tr>\n",
       "      <th>2</th>\n",
       "      <td>RE-TRAIN-0000003</td>\n",
       "      <td>0.0</td>\n",
       "      <td>1.0</td>\n",
       "      <td>1.0</td>\n",
       "      <td>1.0</td>\n",
       "      <td>0.0</td>\n",
       "      <td>1.0</td>\n",
       "      <td>0.0</td>\n",
       "      <td>1.0</td>\n",
       "      <td>0.0</td>\n",
       "      <td>0.0</td>\n",
       "      <td>NaN</td>\n",
       "      <td>NaN</td>\n",
       "      <td>0.0</td>\n",
       "      <td>0.0</td>\n",
       "      <td>1.0</td>\n",
       "    </tr>\n",
       "    <tr>\n",
       "      <th>3</th>\n",
       "      <td>RE-TRAIN-0000004</td>\n",
       "      <td>0.0</td>\n",
       "      <td>1.0</td>\n",
       "      <td>1.0</td>\n",
       "      <td>1.0</td>\n",
       "      <td>0.0</td>\n",
       "      <td>1.0</td>\n",
       "      <td>0.0</td>\n",
       "      <td>1.0</td>\n",
       "      <td>0.0</td>\n",
       "      <td>NaN</td>\n",
       "      <td>NaN</td>\n",
       "      <td>NaN</td>\n",
       "      <td>0.0</td>\n",
       "      <td>0.0</td>\n",
       "      <td>1.0</td>\n",
       "    </tr>\n",
       "    <tr>\n",
       "      <th>4</th>\n",
       "      <td>RE-TRAIN-0000005</td>\n",
       "      <td>0.0</td>\n",
       "      <td>1.0</td>\n",
       "      <td>1.0</td>\n",
       "      <td>1.0</td>\n",
       "      <td>0.0</td>\n",
       "      <td>1.0</td>\n",
       "      <td>1.0</td>\n",
       "      <td>0.0</td>\n",
       "      <td>0.0</td>\n",
       "      <td>0.0</td>\n",
       "      <td>NaN</td>\n",
       "      <td>NaN</td>\n",
       "      <td>0.0</td>\n",
       "      <td>0.0</td>\n",
       "      <td>2.0</td>\n",
       "    </tr>\n",
       "    <tr>\n",
       "      <th>5</th>\n",
       "      <td>RE-TRAIN-0000006</td>\n",
       "      <td>0.0</td>\n",
       "      <td>1.0</td>\n",
       "      <td>1.0</td>\n",
       "      <td>1.0</td>\n",
       "      <td>0.0</td>\n",
       "      <td>1.0</td>\n",
       "      <td>1.0</td>\n",
       "      <td>0.0</td>\n",
       "      <td>1.0</td>\n",
       "      <td>0.0</td>\n",
       "      <td>NaN</td>\n",
       "      <td>NaN</td>\n",
       "      <td>0.0</td>\n",
       "      <td>0.0</td>\n",
       "      <td>1.0</td>\n",
       "    </tr>\n",
       "    <tr>\n",
       "      <th>6</th>\n",
       "      <td>RE-TRAIN-0000007</td>\n",
       "      <td>0.0</td>\n",
       "      <td>1.0</td>\n",
       "      <td>1.0</td>\n",
       "      <td>1.0</td>\n",
       "      <td>0.0</td>\n",
       "      <td>1.0</td>\n",
       "      <td>1.0</td>\n",
       "      <td>0.0</td>\n",
       "      <td>1.0</td>\n",
       "      <td>NaN</td>\n",
       "      <td>NaN</td>\n",
       "      <td>NaN</td>\n",
       "      <td>0.0</td>\n",
       "      <td>0.0</td>\n",
       "      <td>1.0</td>\n",
       "    </tr>\n",
       "    <tr>\n",
       "      <th>7</th>\n",
       "      <td>RE-TRAIN-0000008</td>\n",
       "      <td>0.0</td>\n",
       "      <td>1.0</td>\n",
       "      <td>1.0</td>\n",
       "      <td>1.0</td>\n",
       "      <td>0.0</td>\n",
       "      <td>1.0</td>\n",
       "      <td>1.0</td>\n",
       "      <td>1.0</td>\n",
       "      <td>0.0</td>\n",
       "      <td>0.0</td>\n",
       "      <td>NaN</td>\n",
       "      <td>NaN</td>\n",
       "      <td>0.0</td>\n",
       "      <td>0.0</td>\n",
       "      <td>2.0</td>\n",
       "    </tr>\n",
       "    <tr>\n",
       "      <th>8</th>\n",
       "      <td>RE-TRAIN-0000009</td>\n",
       "      <td>0.0</td>\n",
       "      <td>1.0</td>\n",
       "      <td>1.0</td>\n",
       "      <td>1.0</td>\n",
       "      <td>0.0</td>\n",
       "      <td>1.0</td>\n",
       "      <td>1.0</td>\n",
       "      <td>2.0</td>\n",
       "      <td>0.0</td>\n",
       "      <td>0.0</td>\n",
       "      <td>NaN</td>\n",
       "      <td>NaN</td>\n",
       "      <td>0.0</td>\n",
       "      <td>0.0</td>\n",
       "      <td>1.0</td>\n",
       "    </tr>\n",
       "    <tr>\n",
       "      <th>9</th>\n",
       "      <td>RE-TRAIN-0000010</td>\n",
       "      <td>0.0</td>\n",
       "      <td>1.0</td>\n",
       "      <td>1.0</td>\n",
       "      <td>1.0</td>\n",
       "      <td>0.0</td>\n",
       "      <td>1.0</td>\n",
       "      <td>2.0</td>\n",
       "      <td>0.0</td>\n",
       "      <td>0.0</td>\n",
       "      <td>NaN</td>\n",
       "      <td>NaN</td>\n",
       "      <td>NaN</td>\n",
       "      <td>0.0</td>\n",
       "      <td>0.0</td>\n",
       "      <td>1.0</td>\n",
       "    </tr>\n",
       "  </tbody>\n",
       "</table>\n",
       "</div>"
      ],
      "text/plain": [
       "                 id  menopaus  agegrp  density  race  Hispanic  bmi  agefirst  \\\n",
       "0  RE-TRAIN-0000001       0.0     1.0      1.0   1.0       0.0  1.0       0.0   \n",
       "1  RE-TRAIN-0000002       0.0     1.0      1.0   1.0       0.0  1.0       0.0   \n",
       "2  RE-TRAIN-0000003       0.0     1.0      1.0   1.0       0.0  1.0       0.0   \n",
       "3  RE-TRAIN-0000004       0.0     1.0      1.0   1.0       0.0  1.0       0.0   \n",
       "4  RE-TRAIN-0000005       0.0     1.0      1.0   1.0       0.0  1.0       1.0   \n",
       "5  RE-TRAIN-0000006       0.0     1.0      1.0   1.0       0.0  1.0       1.0   \n",
       "6  RE-TRAIN-0000007       0.0     1.0      1.0   1.0       0.0  1.0       1.0   \n",
       "7  RE-TRAIN-0000008       0.0     1.0      1.0   1.0       0.0  1.0       1.0   \n",
       "8  RE-TRAIN-0000009       0.0     1.0      1.0   1.0       0.0  1.0       1.0   \n",
       "9  RE-TRAIN-0000010       0.0     1.0      1.0   1.0       0.0  1.0       2.0   \n",
       "\n",
       "   nrelbc  brstproc  lastmamm  surgmeno  hrt  invasive  cancer  count  \n",
       "0     0.0       0.0       NaN       NaN  NaN       0.0     0.0    2.0  \n",
       "1     0.0       0.0       NaN       NaN  NaN       0.0     0.0    4.0  \n",
       "2     1.0       0.0       0.0       NaN  NaN       0.0     0.0    1.0  \n",
       "3     1.0       0.0       NaN       NaN  NaN       0.0     0.0    1.0  \n",
       "4     0.0       0.0       0.0       NaN  NaN       0.0     0.0    2.0  \n",
       "5     0.0       1.0       0.0       NaN  NaN       0.0     0.0    1.0  \n",
       "6     0.0       1.0       NaN       NaN  NaN       0.0     0.0    1.0  \n",
       "7     1.0       0.0       0.0       NaN  NaN       0.0     0.0    2.0  \n",
       "8     2.0       0.0       0.0       NaN  NaN       0.0     0.0    1.0  \n",
       "9     0.0       0.0       NaN       NaN  NaN       0.0     0.0    1.0  "
      ]
     },
     "execution_count": 39,
     "metadata": {},
     "output_type": "execute_result"
    }
   ],
   "source": [
    "dfnew.head(10)"
   ]
  },
  {
   "cell_type": "code",
   "execution_count": 75,
   "id": "fe1fe2cb",
   "metadata": {},
   "outputs": [],
   "source": [
    "dfnew['agegrp'] = dfnew['agegrp'].fillna(value=9)"
   ]
  },
  {
   "cell_type": "code",
   "execution_count": 76,
   "id": "85db668c",
   "metadata": {},
   "outputs": [],
   "source": [
    "dfnew.loc[dfnew.menopaus == 0.0, 'surgmeno'] = 0.0"
   ]
  },
  {
   "cell_type": "code",
   "execution_count": 77,
   "id": "92a0d3ab",
   "metadata": {},
   "outputs": [],
   "source": [
    "dfnew.loc[dfnew.menopaus == 0.0, 'hrt'] = 0.0"
   ]
  },
  {
   "cell_type": "code",
   "execution_count": 80,
   "id": "b5997969",
   "metadata": {},
   "outputs": [
    {
     "name": "stdout",
     "output_type": "stream",
     "text": [
      "<class 'pandas.core.frame.DataFrame'>\n",
      "RangeIndex: 196462 entries, 0 to 196461\n",
      "Data columns (total 16 columns):\n",
      " #   Column    Non-Null Count   Dtype  \n",
      "---  ------    --------------   -----  \n",
      " 0   id        196462 non-null  object \n",
      " 1   menopaus  185419 non-null  float64\n",
      " 2   agegrp    196462 non-null  float64\n",
      " 3   density   146732 non-null  float64\n",
      " 4   race      156011 non-null  float64\n",
      " 5   Hispanic  136563 non-null  float64\n",
      " 6   bmi       119957 non-null  float64\n",
      " 7   agefirst  132401 non-null  float64\n",
      " 8   nrelbc    168676 non-null  float64\n",
      " 9   brstproc  171085 non-null  float64\n",
      " 10  lastmamm  131401 non-null  float64\n",
      " 11  surgmeno  139288 non-null  float64\n",
      " 12  hrt       158414 non-null  float64\n",
      " 13  invasive  196462 non-null  float64\n",
      " 14  cancer    196462 non-null  float64\n",
      " 15  count     194330 non-null  float64\n",
      "dtypes: float64(15), object(1)\n",
      "memory usage: 24.0+ MB\n"
     ]
    }
   ],
   "source": [
    "dfnew.info()"
   ]
  },
  {
   "cell_type": "code",
   "execution_count": 79,
   "id": "34093405",
   "metadata": {},
   "outputs": [
    {
     "ename": "NameError",
     "evalue": "name 'fill_val' is not defined",
     "output_type": "error",
     "traceback": [
      "\u001b[1;31m---------------------------------------------------------------------------\u001b[0m",
      "\u001b[1;31mNameError\u001b[0m                                 Traceback (most recent call last)",
      "\u001b[1;32m~\\AppData\\Local\\Temp\\ipykernel_8272\\2872639415.py\u001b[0m in \u001b[0;36m<module>\u001b[1;34m\u001b[0m\n\u001b[1;32m----> 1\u001b[1;33m \u001b[0mfill\u001b[0m \u001b[1;33m=\u001b[0m \u001b[0mpd\u001b[0m\u001b[1;33m.\u001b[0m\u001b[0mDataFrame\u001b[0m\u001b[1;33m(\u001b[0m\u001b[0mindex\u001b[0m \u001b[1;33m=\u001b[0m\u001b[0mdfnew\u001b[0m\u001b[1;33m.\u001b[0m\u001b[0mindex\u001b[0m\u001b[1;33m[\u001b[0m\u001b[0mdfnew\u001b[0m\u001b[1;33m.\u001b[0m\u001b[0mmenopaus\u001b[0m\u001b[1;33m.\u001b[0m\u001b[0misnull\u001b[0m\u001b[1;33m(\u001b[0m\u001b[1;33m)\u001b[0m\u001b[1;33m]\u001b[0m\u001b[1;33m,\u001b[0m \u001b[0mdata\u001b[0m\u001b[1;33m=\u001b[0m \u001b[0mfill_val\u001b[0m\u001b[1;33m,\u001b[0m\u001b[0mcolumns\u001b[0m\u001b[1;33m=\u001b[0m\u001b[1;33m[\u001b[0m\u001b[1;34m'menopaus'\u001b[0m\u001b[1;33m]\u001b[0m\u001b[1;33m)\u001b[0m\u001b[1;33m\u001b[0m\u001b[1;33m\u001b[0m\u001b[0m\n\u001b[0m",
      "\u001b[1;31mNameError\u001b[0m: name 'fill_val' is not defined"
     ]
    }
   ],
   "source": [
    "fill = pd.DataFrame(index =dfnew.index[dfnew.menopaus.isnull()], data= fill_val,columns=['menopaus'])"
   ]
  },
  {
   "cell_type": "code",
   "execution_count": 26,
   "id": "2a0dae7c",
   "metadata": {},
   "outputs": [
    {
     "data": {
      "text/html": [
       "<div>\n",
       "<style scoped>\n",
       "    .dataframe tbody tr th:only-of-type {\n",
       "        vertical-align: middle;\n",
       "    }\n",
       "\n",
       "    .dataframe tbody tr th {\n",
       "        vertical-align: top;\n",
       "    }\n",
       "\n",
       "    .dataframe thead th {\n",
       "        text-align: right;\n",
       "    }\n",
       "</style>\n",
       "<table border=\"1\" class=\"dataframe\">\n",
       "  <thead>\n",
       "    <tr style=\"text-align: right;\">\n",
       "      <th></th>\n",
       "      <th>menopaus</th>\n",
       "    </tr>\n",
       "  </thead>\n",
       "  <tbody>\n",
       "    <tr>\n",
       "      <th>185419</th>\n",
       "      <td>1</td>\n",
       "    </tr>\n",
       "    <tr>\n",
       "      <th>185420</th>\n",
       "      <td>1</td>\n",
       "    </tr>\n",
       "    <tr>\n",
       "      <th>185421</th>\n",
       "      <td>1</td>\n",
       "    </tr>\n",
       "    <tr>\n",
       "      <th>185422</th>\n",
       "      <td>1</td>\n",
       "    </tr>\n",
       "    <tr>\n",
       "      <th>185423</th>\n",
       "      <td>1</td>\n",
       "    </tr>\n",
       "  </tbody>\n",
       "</table>\n",
       "</div>"
      ],
      "text/plain": [
       "        menopaus\n",
       "185419         1\n",
       "185420         1\n",
       "185421         1\n",
       "185422         1\n",
       "185423         1"
      ]
     },
     "execution_count": 26,
     "metadata": {},
     "output_type": "execute_result"
    }
   ],
   "source": [
    "fill.head()"
   ]
  },
  {
   "cell_type": "code",
   "execution_count": 30,
   "id": "a1ea2fbf",
   "metadata": {},
   "outputs": [
    {
     "data": {
      "text/plain": [
       "1"
      ]
     },
     "execution_count": 30,
     "metadata": {},
     "output_type": "execute_result"
    }
   ],
   "source": [
    "df['agegrp'].loc[185419]"
   ]
  },
  {
   "cell_type": "code",
   "execution_count": 32,
   "id": "b9cd9147",
   "metadata": {},
   "outputs": [],
   "source": [
    "dfnew.fillna(fill,inplace = True)"
   ]
  },
  {
   "cell_type": "code",
   "execution_count": 81,
   "id": "71535a45",
   "metadata": {},
   "outputs": [],
   "source": [
    "def fill_func(col):\n",
    "    listval = sample(list(dfnew[dfnew[col].isna()==False][col].values),len(dfnew[dfnew[col].isna()][col])) \n",
    "    fill = pd.DataFrame(index =dfnew.index[dfnew[col].isnull()], data= listval,columns=[col])\n",
    "    dfnew.fillna(fill,inplace = True)\n",
    "    dfnew[col] = dfnew[col].astype(float)"
   ]
  },
  {
   "cell_type": "code",
   "execution_count": 72,
   "id": "86640556",
   "metadata": {},
   "outputs": [
    {
     "data": {
      "text/plain": [
       "float"
      ]
     },
     "execution_count": 72,
     "metadata": {},
     "output_type": "execute_result"
    }
   ],
   "source": [
    "type(dfnew['density'][1])"
   ]
  },
  {
   "cell_type": "code",
   "execution_count": 82,
   "id": "0d1810a6",
   "metadata": {},
   "outputs": [],
   "source": [
    "cols = np.array(dfnew.columns)"
   ]
  },
  {
   "cell_type": "code",
   "execution_count": 84,
   "id": "bdf797cd",
   "metadata": {},
   "outputs": [
    {
     "ename": "AttributeError",
     "evalue": "'numpy.ndarray' object has no attribute 'pop'",
     "output_type": "error",
     "traceback": [
      "\u001b[1;31m---------------------------------------------------------------------------\u001b[0m",
      "\u001b[1;31mAttributeError\u001b[0m                            Traceback (most recent call last)",
      "\u001b[1;32m~\\AppData\\Local\\Temp\\ipykernel_8272\\1171032478.py\u001b[0m in \u001b[0;36m<module>\u001b[1;34m\u001b[0m\n\u001b[1;32m----> 1\u001b[1;33m \u001b[0mcols\u001b[0m\u001b[1;33m.\u001b[0m\u001b[0mpop\u001b[0m\u001b[1;33m(\u001b[0m\u001b[1;36m1\u001b[0m\u001b[1;33m)\u001b[0m\u001b[1;33m\u001b[0m\u001b[1;33m\u001b[0m\u001b[0m\n\u001b[0m",
      "\u001b[1;31mAttributeError\u001b[0m: 'numpy.ndarray' object has no attribute 'pop'"
     ]
    }
   ],
   "source": [
    "cols.pop(1)"
   ]
  },
  {
   "cell_type": "code",
   "execution_count": 85,
   "id": "99d0a001",
   "metadata": {},
   "outputs": [],
   "source": [
    "for col in cols[1:]:\n",
    "    fill_func(col)"
   ]
  },
  {
   "cell_type": "code",
   "execution_count": 86,
   "id": "75baa640",
   "metadata": {},
   "outputs": [
    {
     "name": "stdout",
     "output_type": "stream",
     "text": [
      "<class 'pandas.core.frame.DataFrame'>\n",
      "RangeIndex: 196462 entries, 0 to 196461\n",
      "Data columns (total 16 columns):\n",
      " #   Column    Non-Null Count   Dtype  \n",
      "---  ------    --------------   -----  \n",
      " 0   id        196462 non-null  object \n",
      " 1   menopaus  196462 non-null  int64  \n",
      " 2   agegrp    196462 non-null  float64\n",
      " 3   density   196462 non-null  float64\n",
      " 4   race      196462 non-null  float64\n",
      " 5   Hispanic  196462 non-null  float64\n",
      " 6   bmi       196462 non-null  float64\n",
      " 7   agefirst  196462 non-null  float64\n",
      " 8   nrelbc    196462 non-null  float64\n",
      " 9   brstproc  196462 non-null  float64\n",
      " 10  lastmamm  196462 non-null  float64\n",
      " 11  surgmeno  196462 non-null  float64\n",
      " 12  hrt       196462 non-null  float64\n",
      " 13  invasive  196462 non-null  float64\n",
      " 14  cancer    196462 non-null  float64\n",
      " 15  count     196462 non-null  float64\n",
      "dtypes: float64(14), int64(1), object(1)\n",
      "memory usage: 24.0+ MB\n"
     ]
    }
   ],
   "source": [
    "dfnew.info()"
   ]
  },
  {
   "cell_type": "code",
   "execution_count": 88,
   "id": "731ecd21",
   "metadata": {},
   "outputs": [
    {
     "data": {
      "text/plain": [
       "race       -0.050900\n",
       "Hispanic   -0.049136\n",
       "nrelbc     -0.026613\n",
       "lastmamm   -0.024811\n",
       "count      -0.024415\n",
       "bmi        -0.023146\n",
       "brstproc   -0.013001\n",
       "surgmeno   -0.012786\n",
       "agefirst   -0.010378\n",
       "menopaus   -0.000015\n",
       "hrt         0.006973\n",
       "density     0.022541\n",
       "agegrp      0.026089\n",
       "invasive    0.874999\n",
       "cancer      1.000000\n",
       "Name: cancer, dtype: float64"
      ]
     },
     "execution_count": 88,
     "metadata": {},
     "output_type": "execute_result"
    }
   ],
   "source": [
    "dfnew.corr()['cancer'].sort_values(ascending=True)"
   ]
  },
  {
   "cell_type": "code",
   "execution_count": 25,
   "id": "f0d2a8e2",
   "metadata": {},
   "outputs": [
    {
     "data": {
      "text/plain": [
       "Hispanic   -0.040359\n",
       "race       -0.037971\n",
       "lastmamm   -0.026021\n",
       "count      -0.024619\n",
       "brstproc   -0.017272\n",
       "nrelbc     -0.009726\n",
       "hrt        -0.005826\n",
       "menopaus   -0.005108\n",
       "surgmeno    0.002086\n",
       "agegrp      0.026089\n",
       "density     0.026287\n",
       "bmi         0.037805\n",
       "agefirst    0.058492\n",
       "invasive    0.874999\n",
       "cancer      1.000000\n",
       "Name: cancer, dtype: float64"
      ]
     },
     "execution_count": 25,
     "metadata": {},
     "output_type": "execute_result"
    }
   ],
   "source": [
    "df.corr()['cancer'].sort_values(ascending=True)"
   ]
  },
  {
   "cell_type": "markdown",
   "id": "d2cda02b",
   "metadata": {},
   "source": [
    "### Logistic Regression"
   ]
  },
  {
   "cell_type": "code",
   "execution_count": 89,
   "id": "a7f13b84",
   "metadata": {},
   "outputs": [],
   "source": [
    "x_train = dfnew.drop(['id','cancer'],axis=1)\n",
    "y_train = dfnew['cancer']"
   ]
  },
  {
   "cell_type": "code",
   "execution_count": 96,
   "id": "b8636a61",
   "metadata": {},
   "outputs": [
    {
     "data": {
      "text/html": [
       "<div>\n",
       "<style scoped>\n",
       "    .dataframe tbody tr th:only-of-type {\n",
       "        vertical-align: middle;\n",
       "    }\n",
       "\n",
       "    .dataframe tbody tr th {\n",
       "        vertical-align: top;\n",
       "    }\n",
       "\n",
       "    .dataframe thead th {\n",
       "        text-align: right;\n",
       "    }\n",
       "</style>\n",
       "<table border=\"1\" class=\"dataframe\">\n",
       "  <thead>\n",
       "    <tr style=\"text-align: right;\">\n",
       "      <th></th>\n",
       "      <th>menopaus</th>\n",
       "      <th>agegrp</th>\n",
       "      <th>density</th>\n",
       "      <th>race</th>\n",
       "      <th>Hispanic</th>\n",
       "      <th>bmi</th>\n",
       "      <th>agefirst</th>\n",
       "      <th>nrelbc</th>\n",
       "      <th>brstproc</th>\n",
       "      <th>lastmamm</th>\n",
       "      <th>surgmeno</th>\n",
       "      <th>hrt</th>\n",
       "      <th>invasive</th>\n",
       "      <th>count</th>\n",
       "    </tr>\n",
       "  </thead>\n",
       "  <tbody>\n",
       "    <tr>\n",
       "      <th>0</th>\n",
       "      <td>0</td>\n",
       "      <td>1.0</td>\n",
       "      <td>1.0</td>\n",
       "      <td>1.0</td>\n",
       "      <td>0.0</td>\n",
       "      <td>1.0</td>\n",
       "      <td>0.0</td>\n",
       "      <td>0.0</td>\n",
       "      <td>0.0</td>\n",
       "      <td>0.0</td>\n",
       "      <td>0.0</td>\n",
       "      <td>0.0</td>\n",
       "      <td>0.0</td>\n",
       "      <td>2.0</td>\n",
       "    </tr>\n",
       "    <tr>\n",
       "      <th>1</th>\n",
       "      <td>0</td>\n",
       "      <td>1.0</td>\n",
       "      <td>1.0</td>\n",
       "      <td>1.0</td>\n",
       "      <td>0.0</td>\n",
       "      <td>1.0</td>\n",
       "      <td>0.0</td>\n",
       "      <td>0.0</td>\n",
       "      <td>0.0</td>\n",
       "      <td>0.0</td>\n",
       "      <td>0.0</td>\n",
       "      <td>0.0</td>\n",
       "      <td>0.0</td>\n",
       "      <td>4.0</td>\n",
       "    </tr>\n",
       "    <tr>\n",
       "      <th>2</th>\n",
       "      <td>0</td>\n",
       "      <td>1.0</td>\n",
       "      <td>1.0</td>\n",
       "      <td>1.0</td>\n",
       "      <td>0.0</td>\n",
       "      <td>1.0</td>\n",
       "      <td>0.0</td>\n",
       "      <td>1.0</td>\n",
       "      <td>0.0</td>\n",
       "      <td>0.0</td>\n",
       "      <td>0.0</td>\n",
       "      <td>0.0</td>\n",
       "      <td>0.0</td>\n",
       "      <td>1.0</td>\n",
       "    </tr>\n",
       "    <tr>\n",
       "      <th>3</th>\n",
       "      <td>0</td>\n",
       "      <td>1.0</td>\n",
       "      <td>1.0</td>\n",
       "      <td>1.0</td>\n",
       "      <td>0.0</td>\n",
       "      <td>1.0</td>\n",
       "      <td>0.0</td>\n",
       "      <td>1.0</td>\n",
       "      <td>0.0</td>\n",
       "      <td>0.0</td>\n",
       "      <td>0.0</td>\n",
       "      <td>0.0</td>\n",
       "      <td>0.0</td>\n",
       "      <td>1.0</td>\n",
       "    </tr>\n",
       "    <tr>\n",
       "      <th>4</th>\n",
       "      <td>0</td>\n",
       "      <td>1.0</td>\n",
       "      <td>1.0</td>\n",
       "      <td>1.0</td>\n",
       "      <td>0.0</td>\n",
       "      <td>1.0</td>\n",
       "      <td>1.0</td>\n",
       "      <td>0.0</td>\n",
       "      <td>0.0</td>\n",
       "      <td>0.0</td>\n",
       "      <td>0.0</td>\n",
       "      <td>0.0</td>\n",
       "      <td>0.0</td>\n",
       "      <td>2.0</td>\n",
       "    </tr>\n",
       "  </tbody>\n",
       "</table>\n",
       "</div>"
      ],
      "text/plain": [
       "   menopaus  agegrp  density  race  Hispanic  bmi  agefirst  nrelbc  brstproc  \\\n",
       "0         0     1.0      1.0   1.0       0.0  1.0       0.0     0.0       0.0   \n",
       "1         0     1.0      1.0   1.0       0.0  1.0       0.0     0.0       0.0   \n",
       "2         0     1.0      1.0   1.0       0.0  1.0       0.0     1.0       0.0   \n",
       "3         0     1.0      1.0   1.0       0.0  1.0       0.0     1.0       0.0   \n",
       "4         0     1.0      1.0   1.0       0.0  1.0       1.0     0.0       0.0   \n",
       "\n",
       "   lastmamm  surgmeno  hrt  invasive  count  \n",
       "0       0.0       0.0  0.0       0.0    2.0  \n",
       "1       0.0       0.0  0.0       0.0    4.0  \n",
       "2       0.0       0.0  0.0       0.0    1.0  \n",
       "3       0.0       0.0  0.0       0.0    1.0  \n",
       "4       0.0       0.0  0.0       0.0    2.0  "
      ]
     },
     "execution_count": 96,
     "metadata": {},
     "output_type": "execute_result"
    }
   ],
   "source": [
    "x_train.head()"
   ]
  },
  {
   "cell_type": "code",
   "execution_count": 92,
   "id": "39eacf03",
   "metadata": {},
   "outputs": [],
   "source": [
    "from sklearn.linear_model import LogisticRegression\n",
    "lr=LogisticRegression()\n",
    "#lr.fit(x_train, y_train)\n",
    "#print(\"score on train: \"+ str(lr.score(x_train, y_train)))"
   ]
  },
  {
   "cell_type": "code",
   "execution_count": 93,
   "id": "8cf49490",
   "metadata": {},
   "outputs": [
    {
     "name": "stdout",
     "output_type": "stream",
     "text": [
      "Parameters currently in use:\n",
      "\n",
      "{'C': 1.0,\n",
      " 'class_weight': None,\n",
      " 'dual': False,\n",
      " 'fit_intercept': True,\n",
      " 'intercept_scaling': 1,\n",
      " 'l1_ratio': None,\n",
      " 'max_iter': 100,\n",
      " 'multi_class': 'auto',\n",
      " 'n_jobs': None,\n",
      " 'penalty': 'l2',\n",
      " 'random_state': None,\n",
      " 'solver': 'lbfgs',\n",
      " 'tol': 0.0001,\n",
      " 'verbose': 0,\n",
      " 'warm_start': False}\n"
     ]
    }
   ],
   "source": [
    "from pprint import pprint\n",
    "# Look at parameters used by our current forest\n",
    "print('Parameters currently in use:\\n')\n",
    "pprint(lr.get_params())"
   ]
  },
  {
   "cell_type": "code",
   "execution_count": 94,
   "id": "720ec5a4",
   "metadata": {},
   "outputs": [
    {
     "name": "stdout",
     "output_type": "stream",
     "text": [
      "{'C': [0.001, 0.01, 0.1, 1.0], 'solver': ['lbfgs', 'saga'], 'max_iter': [100, 1000]}\n"
     ]
    }
   ],
   "source": [
    "from sklearn.model_selection import RandomizedSearchCV, GridSearchCV\n",
    "# Number of trees in random forest\n",
    "cval = [0.001, 0.01, 0.1, 1.0]\n",
    "solver = ['lbfgs','saga']\n",
    "maxiter = [100, 1000]\n",
    "\n",
    "# Create the random grid\n",
    "random_grid = {'C': cval,\n",
    "               'solver': solver,\n",
    "               'max_iter': maxiter\n",
    "              }\n",
    "print(random_grid)"
   ]
  },
  {
   "cell_type": "code",
   "execution_count": 95,
   "id": "a4653586",
   "metadata": {},
   "outputs": [],
   "source": [
    "grid_search = GridSearchCV(estimator = lr, param_grid = random_grid, \n",
    "                          cv = 10, n_jobs = -1, verbose = 2)"
   ]
  },
  {
   "cell_type": "code",
   "execution_count": 97,
   "id": "fbfadf39",
   "metadata": {},
   "outputs": [
    {
     "name": "stdout",
     "output_type": "stream",
     "text": [
      "Fitting 10 folds for each of 16 candidates, totalling 160 fits\n"
     ]
    },
    {
     "data": {
      "text/plain": [
       "GridSearchCV(cv=10, estimator=LogisticRegression(), n_jobs=-1,\n",
       "             param_grid={'C': [0.001, 0.01, 0.1, 1.0], 'max_iter': [100, 1000],\n",
       "                         'solver': ['lbfgs', 'saga']},\n",
       "             verbose=2)"
      ]
     },
     "execution_count": 97,
     "metadata": {},
     "output_type": "execute_result"
    }
   ],
   "source": [
    "grid_search.fit(x_train, y_train)"
   ]
  },
  {
   "cell_type": "code",
   "execution_count": 98,
   "id": "aa06bfeb",
   "metadata": {},
   "outputs": [
    {
     "data": {
      "text/plain": [
       "{'C': 1.0, 'max_iter': 100, 'solver': 'lbfgs'}"
      ]
     },
     "execution_count": 98,
     "metadata": {},
     "output_type": "execute_result"
    }
   ],
   "source": [
    "grid_search.best_params_"
   ]
  },
  {
   "cell_type": "code",
   "execution_count": null,
   "id": "69af8bea",
   "metadata": {},
   "outputs": [],
   "source": []
  },
  {
   "cell_type": "code",
   "execution_count": 72,
   "id": "8ba997cb",
   "metadata": {},
   "outputs": [],
   "source": [
    "from sklearn.metrics import precision_score, recall_score, f1_score\n",
    "from sklearn.model_selection import cross_val_predict\n",
    "from sklearn.metrics import confusion_matrix"
   ]
  },
  {
   "cell_type": "code",
   "execution_count": 73,
   "id": "bcfe2af8",
   "metadata": {},
   "outputs": [],
   "source": [
    "y_train_pred = cross_val_predict(lr, x_train, y_train, cv=10) "
   ]
  },
  {
   "cell_type": "code",
   "execution_count": 74,
   "id": "b0be2edd",
   "metadata": {},
   "outputs": [
    {
     "name": "stdout",
     "output_type": "stream",
     "text": [
      "1.0\n",
      "0.7700920245398774\n",
      "0.8701152413135778\n"
     ]
    }
   ],
   "source": [
    "print(precision_score(y_train, y_train_pred))\n",
    "print(recall_score(y_train, y_train_pred))\n",
    "print(f1_score(y_train, y_train_pred))"
   ]
  },
  {
   "cell_type": "markdown",
   "id": "77ae6182",
   "metadata": {},
   "source": [
    "### Preparing test data set"
   ]
  },
  {
   "cell_type": "code",
   "execution_count": 99,
   "id": "dcbc75e8",
   "metadata": {},
   "outputs": [],
   "source": [
    "testdf = pd.read_csv('data-provisional.csv')"
   ]
  },
  {
   "cell_type": "code",
   "execution_count": 100,
   "id": "bfa11c1b",
   "metadata": {},
   "outputs": [
    {
     "data": {
      "text/html": [
       "<div>\n",
       "<style scoped>\n",
       "    .dataframe tbody tr th:only-of-type {\n",
       "        vertical-align: middle;\n",
       "    }\n",
       "\n",
       "    .dataframe tbody tr th {\n",
       "        vertical-align: top;\n",
       "    }\n",
       "\n",
       "    .dataframe thead th {\n",
       "        text-align: right;\n",
       "    }\n",
       "</style>\n",
       "<table border=\"1\" class=\"dataframe\">\n",
       "  <thead>\n",
       "    <tr style=\"text-align: right;\">\n",
       "      <th></th>\n",
       "      <th>id</th>\n",
       "      <th>menopaus</th>\n",
       "      <th>agegrp</th>\n",
       "      <th>density</th>\n",
       "      <th>race</th>\n",
       "      <th>Hispanic</th>\n",
       "      <th>bmi</th>\n",
       "      <th>agefirst</th>\n",
       "      <th>nrelbc</th>\n",
       "      <th>brstproc</th>\n",
       "      <th>lastmamm</th>\n",
       "      <th>surgmeno</th>\n",
       "      <th>hrt</th>\n",
       "      <th>invasive</th>\n",
       "      <th>count</th>\n",
       "    </tr>\n",
       "  </thead>\n",
       "  <tbody>\n",
       "    <tr>\n",
       "      <th>0</th>\n",
       "      <td>RE-PROV-0000001</td>\n",
       "      <td>0</td>\n",
       "      <td>1</td>\n",
       "      <td>1</td>\n",
       "      <td>1</td>\n",
       "      <td>0</td>\n",
       "      <td>1</td>\n",
       "      <td>0</td>\n",
       "      <td>0</td>\n",
       "      <td>0</td>\n",
       "      <td>0</td>\n",
       "      <td>9</td>\n",
       "      <td>9</td>\n",
       "      <td>0</td>\n",
       "      <td>4</td>\n",
       "    </tr>\n",
       "    <tr>\n",
       "      <th>1</th>\n",
       "      <td>RE-PROV-0000002</td>\n",
       "      <td>0</td>\n",
       "      <td>1</td>\n",
       "      <td>1</td>\n",
       "      <td>1</td>\n",
       "      <td>0</td>\n",
       "      <td>2</td>\n",
       "      <td>0</td>\n",
       "      <td>1</td>\n",
       "      <td>0</td>\n",
       "      <td>9</td>\n",
       "      <td>9</td>\n",
       "      <td>9</td>\n",
       "      <td>0</td>\n",
       "      <td>1</td>\n",
       "    </tr>\n",
       "    <tr>\n",
       "      <th>2</th>\n",
       "      <td>RE-PROV-0000003</td>\n",
       "      <td>0</td>\n",
       "      <td>1</td>\n",
       "      <td>1</td>\n",
       "      <td>1</td>\n",
       "      <td>0</td>\n",
       "      <td>2</td>\n",
       "      <td>9</td>\n",
       "      <td>0</td>\n",
       "      <td>0</td>\n",
       "      <td>0</td>\n",
       "      <td>9</td>\n",
       "      <td>9</td>\n",
       "      <td>0</td>\n",
       "      <td>4</td>\n",
       "    </tr>\n",
       "    <tr>\n",
       "      <th>3</th>\n",
       "      <td>RE-PROV-0000004</td>\n",
       "      <td>0</td>\n",
       "      <td>1</td>\n",
       "      <td>1</td>\n",
       "      <td>1</td>\n",
       "      <td>0</td>\n",
       "      <td>2</td>\n",
       "      <td>9</td>\n",
       "      <td>1</td>\n",
       "      <td>0</td>\n",
       "      <td>0</td>\n",
       "      <td>9</td>\n",
       "      <td>9</td>\n",
       "      <td>0</td>\n",
       "      <td>2</td>\n",
       "    </tr>\n",
       "    <tr>\n",
       "      <th>4</th>\n",
       "      <td>RE-PROV-0000005</td>\n",
       "      <td>0</td>\n",
       "      <td>1</td>\n",
       "      <td>1</td>\n",
       "      <td>1</td>\n",
       "      <td>0</td>\n",
       "      <td>3</td>\n",
       "      <td>2</td>\n",
       "      <td>0</td>\n",
       "      <td>0</td>\n",
       "      <td>9</td>\n",
       "      <td>9</td>\n",
       "      <td>9</td>\n",
       "      <td>0</td>\n",
       "      <td>3</td>\n",
       "    </tr>\n",
       "  </tbody>\n",
       "</table>\n",
       "</div>"
      ],
      "text/plain": [
       "                id  menopaus  agegrp  density  race  Hispanic  bmi  agefirst  \\\n",
       "0  RE-PROV-0000001         0       1        1     1         0    1         0   \n",
       "1  RE-PROV-0000002         0       1        1     1         0    2         0   \n",
       "2  RE-PROV-0000003         0       1        1     1         0    2         9   \n",
       "3  RE-PROV-0000004         0       1        1     1         0    2         9   \n",
       "4  RE-PROV-0000005         0       1        1     1         0    3         2   \n",
       "\n",
       "   nrelbc  brstproc  lastmamm  surgmeno  hrt  invasive  count  \n",
       "0       0         0         0         9    9         0      4  \n",
       "1       1         0         9         9    9         0      1  \n",
       "2       0         0         0         9    9         0      4  \n",
       "3       1         0         0         9    9         0      2  \n",
       "4       0         0         9         9    9         0      3  "
      ]
     },
     "execution_count": 100,
     "metadata": {},
     "output_type": "execute_result"
    }
   ],
   "source": [
    "testdf.head()"
   ]
  },
  {
   "cell_type": "code",
   "execution_count": 110,
   "id": "45b776be",
   "metadata": {},
   "outputs": [
    {
     "name": "stdout",
     "output_type": "stream",
     "text": [
      "<class 'pandas.core.frame.DataFrame'>\n",
      "RangeIndex: 28066 entries, 0 to 28065\n",
      "Data columns (total 15 columns):\n",
      " #   Column    Non-Null Count  Dtype \n",
      "---  ------    --------------  ----- \n",
      " 0   id        28066 non-null  object\n",
      " 1   menopaus  28066 non-null  int64 \n",
      " 2   agegrp    28066 non-null  int64 \n",
      " 3   density   28066 non-null  object\n",
      " 4   race      28066 non-null  object\n",
      " 5   Hispanic  28066 non-null  object\n",
      " 6   bmi       28066 non-null  object\n",
      " 7   agefirst  28066 non-null  object\n",
      " 8   nrelbc    28066 non-null  object\n",
      " 9   brstproc  28066 non-null  object\n",
      " 10  lastmamm  28066 non-null  object\n",
      " 11  surgmeno  28066 non-null  object\n",
      " 12  hrt       28066 non-null  object\n",
      " 13  invasive  28066 non-null  int64 \n",
      " 14  count     28066 non-null  object\n",
      "dtypes: int64(3), object(12)\n",
      "memory usage: 3.2+ MB\n"
     ]
    }
   ],
   "source": [
    "testdfnew.info()"
   ]
  },
  {
   "cell_type": "code",
   "execution_count": 112,
   "id": "78f4639d",
   "metadata": {},
   "outputs": [],
   "source": [
    "testdfnew = testdf.replace({9: np.nan})"
   ]
  },
  {
   "cell_type": "code",
   "execution_count": 113,
   "id": "13ebd775",
   "metadata": {},
   "outputs": [],
   "source": [
    "testdfnew['agegrp'] = testdfnew['agegrp'].fillna(value=9)"
   ]
  },
  {
   "cell_type": "code",
   "execution_count": 114,
   "id": "d2d15607",
   "metadata": {},
   "outputs": [],
   "source": [
    "testdfnew.loc[testdfnew.menopaus == 0.0, 'surgmeno'] = 0.0\n",
    "testdfnew.loc[testdfnew.hrt == 0.0, 'hrt'] = 0.0"
   ]
  },
  {
   "cell_type": "code",
   "execution_count": 115,
   "id": "dd0a01bf",
   "metadata": {},
   "outputs": [],
   "source": [
    "def fill_func(col):\n",
    "    listval = sample(list(testdfnew[testdfnew[col].isna()==False][col].values),len(testdfnew[testdfnew[col].isna()][col])) \n",
    "    fill = pd.DataFrame(index =testdfnew.index[testdfnew[col].isnull()], data= listval,columns=[col])\n",
    "    testdfnew.fillna(fill,inplace = True)\n",
    "    testdfnew[col] = testdfnew[col].astype(float)"
   ]
  },
  {
   "cell_type": "code",
   "execution_count": 107,
   "id": "5801883e",
   "metadata": {},
   "outputs": [],
   "source": [
    "cols = np.array(testdfnew.columns)"
   ]
  },
  {
   "cell_type": "code",
   "execution_count": 108,
   "id": "508f4984",
   "metadata": {},
   "outputs": [
    {
     "data": {
      "text/plain": [
       "array(['id', 'menopaus', 'agegrp', 'density', 'race', 'Hispanic', 'bmi',\n",
       "       'agefirst', 'nrelbc', 'brstproc', 'lastmamm', 'surgmeno', 'hrt',\n",
       "       'invasive', 'count'], dtype=object)"
      ]
     },
     "execution_count": 108,
     "metadata": {},
     "output_type": "execute_result"
    }
   ],
   "source": [
    "cols"
   ]
  },
  {
   "cell_type": "code",
   "execution_count": 116,
   "id": "569ad737",
   "metadata": {},
   "outputs": [],
   "source": [
    "for col in cols[1:]:\n",
    "    fill_func(col)"
   ]
  },
  {
   "cell_type": "code",
   "execution_count": 117,
   "id": "ef199c79",
   "metadata": {},
   "outputs": [],
   "source": [
    "x_test = testdfnew.drop('id',axis=1)"
   ]
  },
  {
   "cell_type": "code",
   "execution_count": 118,
   "id": "f2a201db",
   "metadata": {},
   "outputs": [
    {
     "data": {
      "text/html": [
       "<div>\n",
       "<style scoped>\n",
       "    .dataframe tbody tr th:only-of-type {\n",
       "        vertical-align: middle;\n",
       "    }\n",
       "\n",
       "    .dataframe tbody tr th {\n",
       "        vertical-align: top;\n",
       "    }\n",
       "\n",
       "    .dataframe thead th {\n",
       "        text-align: right;\n",
       "    }\n",
       "</style>\n",
       "<table border=\"1\" class=\"dataframe\">\n",
       "  <thead>\n",
       "    <tr style=\"text-align: right;\">\n",
       "      <th></th>\n",
       "      <th>menopaus</th>\n",
       "      <th>agegrp</th>\n",
       "      <th>density</th>\n",
       "      <th>race</th>\n",
       "      <th>Hispanic</th>\n",
       "      <th>bmi</th>\n",
       "      <th>agefirst</th>\n",
       "      <th>nrelbc</th>\n",
       "      <th>brstproc</th>\n",
       "      <th>lastmamm</th>\n",
       "      <th>surgmeno</th>\n",
       "      <th>hrt</th>\n",
       "      <th>invasive</th>\n",
       "      <th>count</th>\n",
       "    </tr>\n",
       "  </thead>\n",
       "  <tbody>\n",
       "    <tr>\n",
       "      <th>0</th>\n",
       "      <td>0</td>\n",
       "      <td>1.0</td>\n",
       "      <td>1.0</td>\n",
       "      <td>1.0</td>\n",
       "      <td>0.0</td>\n",
       "      <td>1.0</td>\n",
       "      <td>0.0</td>\n",
       "      <td>0.0</td>\n",
       "      <td>0.0</td>\n",
       "      <td>0.0</td>\n",
       "      <td>0.0</td>\n",
       "      <td>1.0</td>\n",
       "      <td>0.0</td>\n",
       "      <td>4.0</td>\n",
       "    </tr>\n",
       "    <tr>\n",
       "      <th>1</th>\n",
       "      <td>0</td>\n",
       "      <td>1.0</td>\n",
       "      <td>1.0</td>\n",
       "      <td>1.0</td>\n",
       "      <td>0.0</td>\n",
       "      <td>2.0</td>\n",
       "      <td>0.0</td>\n",
       "      <td>1.0</td>\n",
       "      <td>0.0</td>\n",
       "      <td>0.0</td>\n",
       "      <td>0.0</td>\n",
       "      <td>1.0</td>\n",
       "      <td>0.0</td>\n",
       "      <td>1.0</td>\n",
       "    </tr>\n",
       "    <tr>\n",
       "      <th>2</th>\n",
       "      <td>0</td>\n",
       "      <td>1.0</td>\n",
       "      <td>1.0</td>\n",
       "      <td>1.0</td>\n",
       "      <td>0.0</td>\n",
       "      <td>2.0</td>\n",
       "      <td>0.0</td>\n",
       "      <td>0.0</td>\n",
       "      <td>0.0</td>\n",
       "      <td>0.0</td>\n",
       "      <td>0.0</td>\n",
       "      <td>0.0</td>\n",
       "      <td>0.0</td>\n",
       "      <td>4.0</td>\n",
       "    </tr>\n",
       "    <tr>\n",
       "      <th>3</th>\n",
       "      <td>0</td>\n",
       "      <td>1.0</td>\n",
       "      <td>1.0</td>\n",
       "      <td>1.0</td>\n",
       "      <td>0.0</td>\n",
       "      <td>2.0</td>\n",
       "      <td>1.0</td>\n",
       "      <td>1.0</td>\n",
       "      <td>0.0</td>\n",
       "      <td>0.0</td>\n",
       "      <td>0.0</td>\n",
       "      <td>0.0</td>\n",
       "      <td>0.0</td>\n",
       "      <td>2.0</td>\n",
       "    </tr>\n",
       "    <tr>\n",
       "      <th>4</th>\n",
       "      <td>0</td>\n",
       "      <td>1.0</td>\n",
       "      <td>1.0</td>\n",
       "      <td>1.0</td>\n",
       "      <td>0.0</td>\n",
       "      <td>3.0</td>\n",
       "      <td>2.0</td>\n",
       "      <td>0.0</td>\n",
       "      <td>0.0</td>\n",
       "      <td>0.0</td>\n",
       "      <td>0.0</td>\n",
       "      <td>0.0</td>\n",
       "      <td>0.0</td>\n",
       "      <td>3.0</td>\n",
       "    </tr>\n",
       "  </tbody>\n",
       "</table>\n",
       "</div>"
      ],
      "text/plain": [
       "   menopaus  agegrp  density  race  Hispanic  bmi  agefirst  nrelbc  brstproc  \\\n",
       "0         0     1.0      1.0   1.0       0.0  1.0       0.0     0.0       0.0   \n",
       "1         0     1.0      1.0   1.0       0.0  2.0       0.0     1.0       0.0   \n",
       "2         0     1.0      1.0   1.0       0.0  2.0       0.0     0.0       0.0   \n",
       "3         0     1.0      1.0   1.0       0.0  2.0       1.0     1.0       0.0   \n",
       "4         0     1.0      1.0   1.0       0.0  3.0       2.0     0.0       0.0   \n",
       "\n",
       "   lastmamm  surgmeno  hrt  invasive  count  \n",
       "0       0.0       0.0  1.0       0.0    4.0  \n",
       "1       0.0       0.0  1.0       0.0    1.0  \n",
       "2       0.0       0.0  0.0       0.0    4.0  \n",
       "3       0.0       0.0  0.0       0.0    2.0  \n",
       "4       0.0       0.0  0.0       0.0    3.0  "
      ]
     },
     "execution_count": 118,
     "metadata": {},
     "output_type": "execute_result"
    }
   ],
   "source": [
    "x_test.head()"
   ]
  },
  {
   "cell_type": "code",
   "execution_count": 128,
   "id": "5eb06555",
   "metadata": {},
   "outputs": [
    {
     "data": {
      "text/html": [
       "<div>\n",
       "<style scoped>\n",
       "    .dataframe tbody tr th:only-of-type {\n",
       "        vertical-align: middle;\n",
       "    }\n",
       "\n",
       "    .dataframe tbody tr th {\n",
       "        vertical-align: top;\n",
       "    }\n",
       "\n",
       "    .dataframe thead th {\n",
       "        text-align: right;\n",
       "    }\n",
       "</style>\n",
       "<table border=\"1\" class=\"dataframe\">\n",
       "  <thead>\n",
       "    <tr style=\"text-align: right;\">\n",
       "      <th></th>\n",
       "      <th>menopaus</th>\n",
       "      <th>agegrp</th>\n",
       "      <th>density</th>\n",
       "      <th>race</th>\n",
       "      <th>Hispanic</th>\n",
       "      <th>bmi</th>\n",
       "      <th>agefirst</th>\n",
       "      <th>nrelbc</th>\n",
       "      <th>brstproc</th>\n",
       "      <th>lastmamm</th>\n",
       "      <th>surgmeno</th>\n",
       "      <th>hrt</th>\n",
       "      <th>invasive</th>\n",
       "      <th>count</th>\n",
       "    </tr>\n",
       "  </thead>\n",
       "  <tbody>\n",
       "    <tr>\n",
       "      <th>0</th>\n",
       "      <td>0</td>\n",
       "      <td>1.0</td>\n",
       "      <td>1.0</td>\n",
       "      <td>1.0</td>\n",
       "      <td>0.0</td>\n",
       "      <td>1.0</td>\n",
       "      <td>0.0</td>\n",
       "      <td>0.0</td>\n",
       "      <td>0.0</td>\n",
       "      <td>0.0</td>\n",
       "      <td>0.0</td>\n",
       "      <td>0.0</td>\n",
       "      <td>0.0</td>\n",
       "      <td>2.0</td>\n",
       "    </tr>\n",
       "    <tr>\n",
       "      <th>1</th>\n",
       "      <td>0</td>\n",
       "      <td>1.0</td>\n",
       "      <td>1.0</td>\n",
       "      <td>1.0</td>\n",
       "      <td>0.0</td>\n",
       "      <td>1.0</td>\n",
       "      <td>0.0</td>\n",
       "      <td>0.0</td>\n",
       "      <td>0.0</td>\n",
       "      <td>0.0</td>\n",
       "      <td>0.0</td>\n",
       "      <td>0.0</td>\n",
       "      <td>0.0</td>\n",
       "      <td>4.0</td>\n",
       "    </tr>\n",
       "    <tr>\n",
       "      <th>2</th>\n",
       "      <td>0</td>\n",
       "      <td>1.0</td>\n",
       "      <td>1.0</td>\n",
       "      <td>1.0</td>\n",
       "      <td>0.0</td>\n",
       "      <td>1.0</td>\n",
       "      <td>0.0</td>\n",
       "      <td>1.0</td>\n",
       "      <td>0.0</td>\n",
       "      <td>0.0</td>\n",
       "      <td>0.0</td>\n",
       "      <td>0.0</td>\n",
       "      <td>0.0</td>\n",
       "      <td>1.0</td>\n",
       "    </tr>\n",
       "    <tr>\n",
       "      <th>3</th>\n",
       "      <td>0</td>\n",
       "      <td>1.0</td>\n",
       "      <td>1.0</td>\n",
       "      <td>1.0</td>\n",
       "      <td>0.0</td>\n",
       "      <td>1.0</td>\n",
       "      <td>0.0</td>\n",
       "      <td>1.0</td>\n",
       "      <td>0.0</td>\n",
       "      <td>0.0</td>\n",
       "      <td>0.0</td>\n",
       "      <td>0.0</td>\n",
       "      <td>0.0</td>\n",
       "      <td>1.0</td>\n",
       "    </tr>\n",
       "    <tr>\n",
       "      <th>4</th>\n",
       "      <td>0</td>\n",
       "      <td>1.0</td>\n",
       "      <td>1.0</td>\n",
       "      <td>1.0</td>\n",
       "      <td>0.0</td>\n",
       "      <td>1.0</td>\n",
       "      <td>1.0</td>\n",
       "      <td>0.0</td>\n",
       "      <td>0.0</td>\n",
       "      <td>0.0</td>\n",
       "      <td>0.0</td>\n",
       "      <td>0.0</td>\n",
       "      <td>0.0</td>\n",
       "      <td>2.0</td>\n",
       "    </tr>\n",
       "  </tbody>\n",
       "</table>\n",
       "</div>"
      ],
      "text/plain": [
       "   menopaus  agegrp  density  race  Hispanic  bmi  agefirst  nrelbc  brstproc  \\\n",
       "0         0     1.0      1.0   1.0       0.0  1.0       0.0     0.0       0.0   \n",
       "1         0     1.0      1.0   1.0       0.0  1.0       0.0     0.0       0.0   \n",
       "2         0     1.0      1.0   1.0       0.0  1.0       0.0     1.0       0.0   \n",
       "3         0     1.0      1.0   1.0       0.0  1.0       0.0     1.0       0.0   \n",
       "4         0     1.0      1.0   1.0       0.0  1.0       1.0     0.0       0.0   \n",
       "\n",
       "   lastmamm  surgmeno  hrt  invasive  count  \n",
       "0       0.0       0.0  0.0       0.0    2.0  \n",
       "1       0.0       0.0  0.0       0.0    4.0  \n",
       "2       0.0       0.0  0.0       0.0    1.0  \n",
       "3       0.0       0.0  0.0       0.0    1.0  \n",
       "4       0.0       0.0  0.0       0.0    2.0  "
      ]
     },
     "execution_count": 128,
     "metadata": {},
     "output_type": "execute_result"
    }
   ],
   "source": [
    "x_train.head()"
   ]
  },
  {
   "cell_type": "code",
   "execution_count": 91,
   "id": "362fb0bc",
   "metadata": {},
   "outputs": [],
   "source": [
    "predic = lr.predict(x_test)"
   ]
  },
  {
   "cell_type": "code",
   "execution_count": 92,
   "id": "0ca91b5c",
   "metadata": {},
   "outputs": [],
   "source": [
    "pid = testdfnew['id'].array\n",
    "d = {'id' : pid,'prediction':predic}\n",
    "savedat = pd.DataFrame(d)\n",
    "savedat.to_csv('lr.csv',index=False)"
   ]
  },
  {
   "cell_type": "markdown",
   "id": "433fbc4a",
   "metadata": {},
   "source": [
    "### Random Forest"
   ]
  },
  {
   "cell_type": "code",
   "execution_count": 126,
   "id": "6ba475ea",
   "metadata": {},
   "outputs": [
    {
     "name": "stdout",
     "output_type": "stream",
     "text": [
      "Parameters currently in use:\n",
      "\n",
      "{'bootstrap': True,\n",
      " 'ccp_alpha': 0.0,\n",
      " 'class_weight': None,\n",
      " 'criterion': 'gini',\n",
      " 'max_depth': None,\n",
      " 'max_features': 'auto',\n",
      " 'max_leaf_nodes': None,\n",
      " 'max_samples': None,\n",
      " 'min_impurity_decrease': 0.0,\n",
      " 'min_samples_leaf': 1,\n",
      " 'min_samples_split': 2,\n",
      " 'min_weight_fraction_leaf': 0.0,\n",
      " 'n_estimators': 100,\n",
      " 'n_jobs': None,\n",
      " 'oob_score': False,\n",
      " 'random_state': 42,\n",
      " 'verbose': 0,\n",
      " 'warm_start': False}\n"
     ]
    }
   ],
   "source": [
    "from sklearn.ensemble import RandomForestClassifier\n",
    "rf = RandomForestClassifier(random_state = 42)\n",
    "from pprint import pprint\n",
    "# Look at parameters used by our current forest\n",
    "print('Parameters currently in use:\\n')\n",
    "pprint(rf.get_params())"
   ]
  },
  {
   "cell_type": "code",
   "execution_count": 129,
   "id": "2e1a3185",
   "metadata": {},
   "outputs": [
    {
     "name": "stdout",
     "output_type": "stream",
     "text": [
      "{'n_estimators': [10, 32, 55, 77, 100], 'max_depth': [5, 10, 15, 20, None], 'min_samples_split': [2, 5, 10], 'min_samples_leaf': [1, 2, 4]}\n"
     ]
    }
   ],
   "source": [
    "from sklearn.model_selection import RandomizedSearchCV, GridSearchCV\n",
    "# Number of trees in random forest\n",
    "n_estimators = [int(x) for x in np.linspace(start = 10, stop = 100, num = 5)]\n",
    "\n",
    "# Number of features to consider at every split\n",
    "max_features = ['auto', 'sqrt']\n",
    "# Maximum number of levels in tree\n",
    "max_depth = [int(x) for x in np.linspace(5, 20, num = 4)]\n",
    "max_depth.append(None)\n",
    "\n",
    "# Minimum number of samples required to split a node\n",
    "min_samples_split = [2, 5, 10]\n",
    "\n",
    "# Minimum number of samples required at each leaf node\n",
    "min_samples_leaf = [1, 2, 4]\n",
    "\n",
    "# Method of selecting samples for training each tree\n",
    "#bootstrap = [True, False]\n",
    "# Create the random grid\n",
    "random_grid = {'n_estimators': n_estimators,\n",
    "               #'max_features': max_features,\n",
    "               'max_depth': max_depth,\n",
    "               'min_samples_split': min_samples_split,\n",
    "               'min_samples_leaf': min_samples_leaf #,\n",
    "               #'bootstrap': bootstrap\n",
    "              }\n",
    "print(random_grid)"
   ]
  },
  {
   "cell_type": "code",
   "execution_count": 130,
   "id": "c39bbb78",
   "metadata": {},
   "outputs": [],
   "source": [
    "grid_search = GridSearchCV(estimator = rf, param_grid = random_grid, \n",
    "                          cv = 5, n_jobs = -1, verbose = 2)"
   ]
  },
  {
   "cell_type": "code",
   "execution_count": 131,
   "id": "c65f75bf",
   "metadata": {},
   "outputs": [
    {
     "name": "stdout",
     "output_type": "stream",
     "text": [
      "Fitting 5 folds for each of 225 candidates, totalling 1125 fits\n"
     ]
    },
    {
     "data": {
      "text/plain": [
       "GridSearchCV(cv=5, estimator=RandomForestClassifier(random_state=42), n_jobs=-1,\n",
       "             param_grid={'max_depth': [5, 10, 15, 20, None],\n",
       "                         'min_samples_leaf': [1, 2, 4],\n",
       "                         'min_samples_split': [2, 5, 10],\n",
       "                         'n_estimators': [10, 32, 55, 77, 100]},\n",
       "             verbose=2)"
      ]
     },
     "execution_count": 131,
     "metadata": {},
     "output_type": "execute_result"
    }
   ],
   "source": [
    "grid_search.fit(x_train, y_train)"
   ]
  },
  {
   "cell_type": "code",
   "execution_count": 132,
   "id": "2b0bbb83",
   "metadata": {},
   "outputs": [
    {
     "data": {
      "text/plain": [
       "{'max_depth': 5,\n",
       " 'min_samples_leaf': 1,\n",
       " 'min_samples_split': 2,\n",
       " 'n_estimators': 77}"
      ]
     },
     "execution_count": 132,
     "metadata": {},
     "output_type": "execute_result"
    }
   ],
   "source": [
    "grid_search.best_params_"
   ]
  },
  {
   "cell_type": "code",
   "execution_count": 133,
   "id": "66ff75d7",
   "metadata": {},
   "outputs": [],
   "source": [
    "best_rf = RandomForestClassifier(bootstrap = True, max_depth = 5, min_samples_leaf = 1,\n",
    "                                 min_samples_split = 2, n_estimators = 77, random_state = 42)"
   ]
  },
  {
   "cell_type": "code",
   "execution_count": 136,
   "id": "2278444c",
   "metadata": {},
   "outputs": [],
   "source": [
    "y_train_pred = cross_val_predict(best_rf, x_train, y_train, cv=5) "
   ]
  },
  {
   "cell_type": "code",
   "execution_count": 135,
   "id": "092dd630",
   "metadata": {},
   "outputs": [],
   "source": [
    "from sklearn.metrics import precision_score, recall_score, f1_score\n",
    "from sklearn.model_selection import cross_val_predict\n",
    "from sklearn.metrics import confusion_matrix"
   ]
  },
  {
   "cell_type": "code",
   "execution_count": 140,
   "id": "3c6d0622",
   "metadata": {},
   "outputs": [
    {
     "data": {
      "text/plain": [
       "RandomForestClassifier(max_depth=5, n_estimators=77, random_state=42)"
      ]
     },
     "execution_count": 140,
     "metadata": {},
     "output_type": "execute_result"
    }
   ],
   "source": [
    "best_rf.fit(x_train, y_train)"
   ]
  },
  {
   "cell_type": "code",
   "execution_count": 138,
   "id": "de538dc3",
   "metadata": {},
   "outputs": [
    {
     "name": "stdout",
     "output_type": "stream",
     "text": [
      "1.0\n",
      "0.7716257668711657\n",
      "0.871093411825816\n"
     ]
    }
   ],
   "source": [
    "print(precision_score(y_train, y_train_pred))\n",
    "print(recall_score(y_train, y_train_pred))\n",
    "print(f1_score(y_train, y_train_pred))"
   ]
  },
  {
   "cell_type": "code",
   "execution_count": 141,
   "id": "02da8ca7",
   "metadata": {},
   "outputs": [],
   "source": [
    "predic = best_rf.predict(x_test)"
   ]
  },
  {
   "cell_type": "code",
   "execution_count": 142,
   "id": "bdc14e9f",
   "metadata": {},
   "outputs": [],
   "source": [
    "pid = testdfnew['id'].array\n",
    "d = {'id' : pid,'prediction':predic}\n",
    "savedat = pd.DataFrame(d)\n",
    "savedat.to_csv('rf.csv',index=False)"
   ]
  },
  {
   "cell_type": "code",
   "execution_count": null,
   "id": "7cfea003",
   "metadata": {},
   "outputs": [],
   "source": []
  }
 ],
 "metadata": {
  "kernelspec": {
   "display_name": "Python 3 (ipykernel)",
   "language": "python",
   "name": "python3"
  },
  "language_info": {
   "codemirror_mode": {
    "name": "ipython",
    "version": 3
   },
   "file_extension": ".py",
   "mimetype": "text/x-python",
   "name": "python",
   "nbconvert_exporter": "python",
   "pygments_lexer": "ipython3",
   "version": "3.7.9"
  }
 },
 "nbformat": 4,
 "nbformat_minor": 5
}
